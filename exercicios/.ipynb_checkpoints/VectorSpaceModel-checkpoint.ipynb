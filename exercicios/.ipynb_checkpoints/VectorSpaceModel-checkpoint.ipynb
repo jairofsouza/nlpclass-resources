{
 "cells": [
  {
   "cell_type": "markdown",
   "metadata": {},
   "source": [
    "# Experimentando o Vector Space Model"
   ]
  },
  {
   "cell_type": "markdown",
   "metadata": {},
   "source": [
    "Vamos fazer um exercício rápido para exemplificar o modelo vetorial."
   ]
  },
  {
   "cell_type": "code",
   "execution_count": 3,
   "metadata": {
    "collapsed": false,
    "jupyter": {
     "outputs_hidden": false
    }
   },
   "outputs": [],
   "source": [
    "from ex_vsm import *\n",
    "%matplotlib inline"
   ]
  },
  {
   "cell_type": "markdown",
   "metadata": {},
   "source": [
    "## Començando o exercício\n",
    "\n",
    "O código abaixo cria o dataset de experimentação. A cada execução, um novo dataset é criado aleatoriamente. Então você pode rodar várias vezes esse código para verificar a diferença nos valores."
   ]
  },
  {
   "cell_type": "code",
   "execution_count": 7,
   "metadata": {
    "collapsed": false,
    "jupyter": {
     "outputs_hidden": false
    }
   },
   "outputs": [
    {
     "name": "stdout",
     "output_type": "stream",
     "text": [
      "Dada a consulta\n",
      "\t * what to wear for a formal event\n",
      "E uma coleção de documentos\n",
      "\t * For a casual look  wear jeans and t-shirt\n",
      "\t * For a formal event wear a suit and a tie\n",
      "\t * For a typical smart casual look wear jeans and a shirt \n",
      "E um modelo de frequência de termos\n",
      "\t * tf_{i,j}=freq_{i,j}\n",
      "Determinar o ranking da coleção de documentos em relação a uma dada consulta utilizando o Vector Space Model com as seguintes medidas de similaridade:\n",
      "\t * Euclidean Distance\n",
      "\t * Cosine Similarity\n"
     ]
    }
   ],
   "source": [
    "q,D=propose_exercize()"
   ]
  },
  {
   "cell_type": "code",
   "execution_count": 8,
   "metadata": {
    "collapsed": false,
    "jupyter": {
     "outputs_hidden": false
    }
   },
   "outputs": [
    {
     "name": "stdout",
     "output_type": "stream",
     "text": [
      "Dicionário={\"a\", \"and\", \"casual\", \"event\", \"for\", \"formal\", \"jeans\", \"look\", \"shirt\", \"smart\", \"suit\", \"t-shirt\", \"tie\", \"typical\", \"wear\"}\n",
      "\n",
      "Frequência inversa do termo (IDF)\n",
      "t_i\t\tn_i\tidf_i\n",
      "a\t\t3\t0.00\n",
      "and\t\t3\t0.00\n",
      "casual\t\t2\t0.58\n",
      "event\t\t1\t1.58\n",
      "for\t\t3\t0.00\n",
      "formal\t\t1\t1.58\n",
      "jeans\t\t2\t0.58\n",
      "look\t\t2\t0.58\n",
      "shirt\t\t1\t1.58\n",
      "smart\t\t1\t1.58\n",
      "suit\t\t1\t1.58\n",
      "t-shirt\t\t1\t1.58\n",
      "tie\t\t1\t1.58\n",
      "typical\t\t1\t1.58\n",
      "wear\t\t3\t0.00\n",
      "\n",
      "Vamos remover termos com idf=0\n",
      "Dictonário={\"casual\", \"event\", \"formal\", \"jeans\", \"look\", \"shirt\", \"smart\", \"suit\", \"t-shirt\", \"tie\", \"typical\"}\n",
      "\n",
      "Frequência do termo\n",
      "t_i\t\ttf_,1\ttf_,2\ttf_,3\n",
      "casual\t\t1\t0\t1\n",
      "event\t\t0\t1\t0\n",
      "formal\t\t0\t1\t0\n",
      "jeans\t\t1\t0\t1\n",
      "look\t\t1\t0\t1\n",
      "shirt\t\t0\t0\t1\n",
      "smart\t\t0\t0\t1\n",
      "suit\t\t0\t1\t0\n",
      "t-shirt\t\t1\t0\t0\n",
      "tie\t\t0\t1\t0\n",
      "typical\t\t0\t0\t1\n",
      "\n",
      "Frequência do termo na consulta (TF)\n",
      "t_i\t\ttf_{i,q}\n",
      "casual\t\t0\n",
      "event\t\t1\n",
      "formal\t\t1\n",
      "jeans\t\t0\n",
      "look\t\t0\n",
      "shirt\t\t0\n",
      "smart\t\t0\n",
      "suit\t\t0\n",
      "t-shirt\t\t0\n",
      "tie\t\t0\n",
      "typical\t\t0\n",
      "\n",
      "Vamos escrever os documentos e a consulta como vetores\n",
      "d1 = [0.58 0.   0.   0.58 0.58 0.   0.   0.   1.58 0.   0.  ]\n",
      "d2 = [0.   1.58 1.58 0.   0.   0.   0.   1.58 0.   1.58 0.  ]\n",
      "d3 = [0.58 0.   0.   0.58 0.58 1.58 1.58 0.   0.   0.   1.58]\n",
      "q  = [0.   1.58 1.58 0.   0.   0.   0.   0.   0.   0.   0.  ]\n",
      "\n",
      "Euclidean Distance (SC)\n",
      "d_L2(q,d1)=2.93; SC(q,d1)=0.25\n",
      "d_L2(q,d2)=2.24; SC(q,d2)=0.31\n",
      "d_L2(q,d3)=3.69; SC(q,d3)=0.21\n",
      "d2 > d1 > d3\n",
      "\n",
      "Cosine Similarity (SC)\n",
      "SC(q,d1)=0.00\n",
      "SC(q,d2)=0.71\n",
      "SC(q,d3)=0.00\n",
      "d2 > d3 > d1\n"
     ]
    }
   ],
   "source": [
    "clean=False # usar True para limpar a saída\n",
    "solve(q,D, clean)"
   ]
  },
  {
   "cell_type": "markdown",
   "metadata": {},
   "source": [
    "Veja que aqui usamos dois tipos de medidas de similaridade: distância euclidiana e similaridade do cosseno. Elas podem gerar (e provavelmente geraram) ranqueamentos diferentes. Geralmente é usado a similaridade do cosseno no modelo vetorial.\n",
    "\n",
    "**Pense:** por que a distância euclidiana entre dois vetores não é tão interessante para rankear documentos?"
   ]
  },
  {
   "cell_type": "code",
   "execution_count": null,
   "metadata": {},
   "outputs": [],
   "source": []
  }
 ],
 "metadata": {
  "anaconda-cloud": {},
  "kernelspec": {
   "display_name": "Python 3",
   "language": "python",
   "name": "python3"
  },
  "language_info": {
   "codemirror_mode": {
    "name": "ipython",
    "version": 3
   },
   "file_extension": ".py",
   "mimetype": "text/x-python",
   "name": "python",
   "nbconvert_exporter": "python",
   "pygments_lexer": "ipython3",
   "version": "3.7.6"
  }
 },
 "nbformat": 4,
 "nbformat_minor": 4
}
