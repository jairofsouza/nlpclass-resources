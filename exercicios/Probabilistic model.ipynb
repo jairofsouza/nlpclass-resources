{
 "cells": [
  {
   "cell_type": "markdown",
   "metadata": {},
   "source": [
    "# Experimentando o modelo probabilístico"
   ]
  },
  {
   "cell_type": "code",
   "execution_count": 2,
   "metadata": {},
   "outputs": [],
   "source": [
    "from ex_pm import *\n",
    "%matplotlib inline"
   ]
  },
  {
   "cell_type": "markdown",
   "metadata": {},
   "source": [
    "## Començando os exercícios\n",
    "\n",
    "O código abaixo cria o dataset de experimentação. A cada execução, um novo dataset é criado aleatoriamente. Então você pode rodar várias vezes esse código para verificar a diferença nos valores."
   ]
  },
  {
   "cell_type": "code",
   "execution_count": 3,
   "metadata": {
    "collapsed": false,
    "jupyter": {
     "outputs_hidden": false
    }
   },
   "outputs": [
    {
     "name": "stdout",
     "output_type": "stream",
     "text": [
      "Seja\n",
      "\tVetor de incidência da consulta\n",
      "\t\tq=[1 0 1 1 1 1]\n",
      "Vetores de incidência dos documentos\n",
      "\t\td1=[0 1 0 1 1 1]\n",
      "\t\td2=[0 1 0 0 0 1]\n",
      "\t\td3=[0 0 0 0 0 1]\n",
      "\t\td4=[1 1 0 1 0 0]\n",
      "\tInicialize\n",
      "\t\tp_i=0.5\n",
      "Considere como relevante os top-2 documentos\n"
     ]
    }
   ],
   "source": [
    "D,Q=propose_exercize()"
   ]
  },
  {
   "cell_type": "code",
   "execution_count": 4,
   "metadata": {
    "collapsed": false,
    "jupyter": {
     "outputs_hidden": false
    }
   },
   "outputs": [
    {
     "name": "stdout",
     "output_type": "stream",
     "text": [
      "Reduzir os vetores dos documentos considerando apenas os termos que aparecem na consulta\n",
      "\t d1=[0 0 1 1 1]\n",
      "\t d2=[0 0 0 0 1]\n",
      "\t d3=[0 0 0 0 1]\n",
      "\t d4=[1 0 1 0 0]\n",
      "\n",
      "Inicialize u_i como n_i/N, para cada termo\n",
      "\tt1\tt2\tt3\tt4\tt5\n",
      "n_i\t1\t0\t2\t1\t3\n",
      "u_i\t0.25\t0.00\t0.50\t0.25\t0.75\n",
      "\n",
      "\n",
      "===== Iteração #1 =====\n",
      "SC(d1, q) = log2(p3/(1-p3)) + log2((1-u3)/u3) + log2(p4/(1-p4)) + log2((1-u4)/u4) + log2(p5/(1-p5)) + log2((1-u5)/u5) = 0.00\n",
      "SC(d2, q) = log2(p5/(1-p5)) + log2((1-u5)/u5) = -1.58\n",
      "SC(d3, q) = log2(p5/(1-p5)) + log2((1-u5)/u5) = -1.58\n",
      "SC(d4, q) = log2(p1/(1-p1)) + log2((1-u1)/u1) + log2(p3/(1-p3)) + log2((1-u3)/u3) = 1.58\n",
      "\n",
      "Ranking\n",
      "d4 > d1 > d2 > d3\n",
      "\n",
      "Documentos relevantes: {d4, d1}\n",
      "s_1 = 1\n",
      "s_2 = 0\n",
      "s_3 = 2\n",
      "s_4 = 1\n",
      "s_5 = 1\n",
      "p_1 = s_1/S=1/2=0.50\n",
      "p_2 = s_2/S=0/2=0.00\n",
      "p_3 = s_3/S=2/2=1.00\n",
      "p_4 = s_4/S=1/2=0.50\n",
      "p_5 = s_5/S=1/2=0.50\n",
      "u_1 = (n_1-s_1)/(N-S)=(1-1)/(4-2)=0.00\n",
      "u_2 = (n_2-s_2)/(N-S)=(0-0)/(4-2)=0.00\n",
      "u_3 = (n_3-s_3)/(N-S)=(2-2)/(4-2)=0.00\n",
      "u_4 = (n_4-s_4)/(N-S)=(1-1)/(4-2)=0.00\n",
      "u_5 = (n_5-s_5)/(N-S)=(3-1)/(4-2)=1.00\n",
      "\n",
      "\n",
      "===== Iteração #2 =====\n",
      "SC(d1, q) = log2(p3/(1-p3)) + log2((1-u3)/u3) + log2(p4/(1-p4)) + log2((1-u4)/u4) + log2(p5/(1-p5)) + log2((1-u5)/u5) = +inf\n",
      "SC(d2, q) = log2(p5/(1-p5)) + log2((1-u5)/u5) = -inf\n",
      "SC(d3, q) = log2(p5/(1-p5)) + log2((1-u5)/u5) = -inf\n",
      "SC(d4, q) = log2(p1/(1-p1)) + log2((1-u1)/u1) + log2(p3/(1-p3)) + log2((1-u3)/u3) = +inf\n",
      "\n",
      "Ranking\n",
      "d1 > d4 > d2 > d3\n",
      "\n",
      "Convergência alcançada\n"
     ]
    }
   ],
   "source": [
    "clean=False\n",
    "solve_exercize(D,Q, clean=clean)"
   ]
  },
  {
   "cell_type": "markdown",
   "metadata": {
    "jupyter": {
     "outputs_hidden": true
    }
   },
   "source": [
    "Veja que o modelo probabilístico gerou um primeiro conjunto de relevantes à partir de um vetor de booleano e, com base nos documentos retornados, criou recalculou as probabilidades dos documentos (iteração 2)."
   ]
  },
  {
   "cell_type": "code",
   "execution_count": null,
   "metadata": {},
   "outputs": [],
   "source": []
  }
 ],
 "metadata": {
  "anaconda-cloud": {},
  "kernelspec": {
   "display_name": "Python 3",
   "language": "python",
   "name": "python3"
  },
  "language_info": {
   "codemirror_mode": {
    "name": "ipython",
    "version": 3
   },
   "file_extension": ".py",
   "mimetype": "text/x-python",
   "name": "python",
   "nbconvert_exporter": "python",
   "pygments_lexer": "ipython3",
   "version": "3.7.6"
  }
 },
 "nbformat": 4,
 "nbformat_minor": 4
}
