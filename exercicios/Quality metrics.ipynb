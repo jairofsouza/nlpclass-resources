{
 "cells": [
  {
   "cell_type": "markdown",
   "metadata": {},
   "source": [
    "# Experimentando com métricas de qualidade"
   ]
  },
  {
   "cell_type": "code",
   "execution_count": 1,
   "metadata": {},
   "outputs": [],
   "source": [
    "from ex_utils import *\n",
    "%matplotlib inline"
   ]
  },
  {
   "cell_type": "markdown",
   "metadata": {},
   "source": [
    "## Vamos iniciar os dados"
   ]
  },
  {
   "cell_type": "markdown",
   "metadata": {},
   "source": [
    "Você pode selecionar aqui quantas consultas você quer testar e quantos documentos serão retornados por cada consulta. Sinta-se a vontade para alterar e ver a mudança dos resultados.\n",
    "\n",
    "Você pode deixar o valor 0 para que tudo fique randomizado.\n"
   ]
  },
  {
   "cell_type": "code",
   "execution_count": 2,
   "metadata": {
    "collapsed": false,
    "jupyter": {
     "outputs_hidden": false
    }
   },
   "outputs": [
    {
     "name": "stdout",
     "output_type": "stream",
     "text": [
      "Seu sistema de IR recebeu 3 consultas dos usuários\n",
      "Aqui estão os top-30 resulados que seu sistema retornou para cada consulta, e a avaliação correta de cada um deles\n",
      "d\tq1\tRel\t\tq2\tRel\t\tq3\tRel\t\t\n",
      "#1\t3\t0\t\t4\t0\t\t23\t0\t\t\n",
      "#2\t5\t0\t\t20\t1\t\t28\t0\t\t\n",
      "#3\t6\t1\t\t16\t1\t\t7\t0\t\t\n",
      "#4\t21\t0\t\t25\t1\t\t20\t0\t\t\n",
      "#5\t26\t1\t\t24\t0\t\t15\t0\t\t\n",
      "#6\t2\t0\t\t15\t1\t\t27\t1\t\t\n",
      "#7\t17\t0\t\t18\t0\t\t6\t1\t\t\n",
      "#8\t7\t0\t\t22\t0\t\t22\t0\t\t\n",
      "#9\t11\t1\t\t23\t0\t\t10\t1\t\t\n",
      "#10\t16\t1\t\t6\t0\t\t11\t0\t\t\n",
      "#11\t15\t1\t\t28\t1\t\t13\t1\t\t\n",
      "#12\t23\t0\t\t12\t1\t\t12\t0\t\t\n",
      "#13\t18\t0\t\t27\t1\t\t3\t0\t\t\n",
      "#14\t12\t0\t\t29\t0\t\t29\t1\t\t\n",
      "#15\t24\t0\t\t30\t0\t\t4\t1\t\t\n",
      "#16\t28\t1\t\t19\t1\t\t25\t1\t\t\n",
      "#17\t30\t0\t\t10\t0\t\t5\t1\t\t\n",
      "#18\t29\t0\t\t13\t1\t\t17\t0\t\t\n",
      "#19\t31\t0\t\t26\t1\t\t16\t0\t\t\n",
      "#20\t8\t0\t\t5\t0\t\t8\t0\t\t\n",
      "#21\t4\t0\t\t21\t0\t\t2\t0\t\t\n",
      "#22\t22\t0\t\t7\t0\t\t26\t0\t\t\n",
      "#23\t13\t1\t\t17\t0\t\t9\t1\t\t\n",
      "#24\t20\t1\t\t31\t0\t\t24\t0\t\t\n",
      "#25\t9\t1\t\t11\t1\t\t18\t0\t\t\n",
      "#26\t25\t1\t\t3\t1\t\t30\t1\t\t\n",
      "#27\t14\t0\t\t2\t0\t\t14\t1\t\t\n",
      "#28\t10\t1\t\t9\t0\t\t31\t0\t\t\n",
      "#29\t27\t0\t\t14\t1\t\t19\t1\t\t\n",
      "#30\t19\t1\t\t8\t0\t\t21\t1\t\t\n"
     ]
    }
   ],
   "source": [
    "number_of_queries=3\n",
    "number_of_documents_per_queries=30\n",
    "Q,R=propose_exercize(number_of_queries, number_of_documents_per_queries)"
   ]
  },
  {
   "cell_type": "markdown",
   "metadata": {},
   "source": [
    "Selecione quais métricas você quer calcular: \n",
    "* 'prec_rec': plota a curva de Precision-Recall para cada consulta;\n",
    "* 'r-prec': Determinar o R-precision para cada consulta; R-precision é a precisão nos top-R documentos relevantes pra consulta. \n",
    "* 'map': Calcula o Mean Average Precision;\n",
    "* 'roc': Desenha a curva ROC (Receiver-Operating-Characteristic) para cada consulta; COLOCAR LINK\n",
    "* 'auc': Calcula o AUC (Area Under the ROC curve);\n",
    "* 'all': calcula todas as métricas acima;\n",
    "* 'clear': limpa o espaço de soluções"
   ]
  },
  {
   "cell_type": "code",
   "execution_count": 3,
   "metadata": {
    "collapsed": false,
    "jupyter": {
     "outputs_hidden": false
    }
   },
   "outputs": [
    {
     "name": "stdout",
     "output_type": "stream",
     "text": [
      "Precisão e Recall em k para k=1,...,30\n",
      "\tConsulta 1\n",
      "\t\tP(1)=0/1=0.00,\tR(1)=0/12=0.00\n",
      "\t\tP(2)=0/2=0.00,\tR(2)=0/12=0.00\n",
      "\t\tP(3)=1/3=0.33,\tR(3)=1/12=0.08\n",
      "\t\tP(4)=1/4=0.25,\tR(4)=1/12=0.08\n",
      "\t\tP(5)=2/5=0.40,\tR(5)=2/12=0.17\n",
      "\t\tP(6)=2/6=0.33,\tR(6)=2/12=0.17\n",
      "\t\tP(7)=2/7=0.29,\tR(7)=2/12=0.17\n",
      "\t\tP(8)=2/8=0.25,\tR(8)=2/12=0.17\n",
      "\t\tP(9)=3/9=0.33,\tR(9)=3/12=0.25\n",
      "\t\tP(10)=4/10=0.40,\tR(10)=4/12=0.33\n",
      "\t\tP(11)=5/11=0.45,\tR(11)=5/12=0.42\n",
      "\t\tP(12)=5/12=0.42,\tR(12)=5/12=0.42\n",
      "\t\tP(13)=5/13=0.38,\tR(13)=5/12=0.42\n",
      "\t\tP(14)=5/14=0.36,\tR(14)=5/12=0.42\n",
      "\t\tP(15)=5/15=0.33,\tR(15)=5/12=0.42\n",
      "\t\tP(16)=6/16=0.38,\tR(16)=6/12=0.50\n",
      "\t\tP(17)=6/17=0.35,\tR(17)=6/12=0.50\n",
      "\t\tP(18)=6/18=0.33,\tR(18)=6/12=0.50\n",
      "\t\tP(19)=6/19=0.32,\tR(19)=6/12=0.50\n",
      "\t\tP(20)=6/20=0.30,\tR(20)=6/12=0.50\n",
      "\t\tP(21)=6/21=0.29,\tR(21)=6/12=0.50\n",
      "\t\tP(22)=6/22=0.27,\tR(22)=6/12=0.50\n",
      "\t\tP(23)=7/23=0.30,\tR(23)=7/12=0.58\n",
      "\t\tP(24)=8/24=0.33,\tR(24)=8/12=0.67\n",
      "\t\tP(25)=9/25=0.36,\tR(25)=9/12=0.75\n",
      "\t\tP(26)=10/26=0.38,\tR(26)=10/12=0.83\n",
      "\t\tP(27)=10/27=0.37,\tR(27)=10/12=0.83\n",
      "\t\tP(28)=11/28=0.39,\tR(28)=11/12=0.92\n",
      "\t\tP(29)=11/29=0.38,\tR(29)=11/12=0.92\n",
      "\t\tP(30)=12/30=0.40,\tR(30)=12/12=1.00\n",
      "\tConsulta 2\n",
      "\t\tP(1)=0/1=0.00,\tR(1)=0/13=0.00\n",
      "\t\tP(2)=1/2=0.50,\tR(2)=1/13=0.08\n",
      "\t\tP(3)=2/3=0.67,\tR(3)=2/13=0.15\n",
      "\t\tP(4)=3/4=0.75,\tR(4)=3/13=0.23\n",
      "\t\tP(5)=3/5=0.60,\tR(5)=3/13=0.23\n",
      "\t\tP(6)=4/6=0.67,\tR(6)=4/13=0.31\n",
      "\t\tP(7)=4/7=0.57,\tR(7)=4/13=0.31\n",
      "\t\tP(8)=4/8=0.50,\tR(8)=4/13=0.31\n",
      "\t\tP(9)=4/9=0.44,\tR(9)=4/13=0.31\n",
      "\t\tP(10)=4/10=0.40,\tR(10)=4/13=0.31\n",
      "\t\tP(11)=5/11=0.45,\tR(11)=5/13=0.38\n",
      "\t\tP(12)=6/12=0.50,\tR(12)=6/13=0.46\n",
      "\t\tP(13)=7/13=0.54,\tR(13)=7/13=0.54\n",
      "\t\tP(14)=7/14=0.50,\tR(14)=7/13=0.54\n",
      "\t\tP(15)=7/15=0.47,\tR(15)=7/13=0.54\n",
      "\t\tP(16)=8/16=0.50,\tR(16)=8/13=0.62\n",
      "\t\tP(17)=8/17=0.47,\tR(17)=8/13=0.62\n",
      "\t\tP(18)=9/18=0.50,\tR(18)=9/13=0.69\n",
      "\t\tP(19)=10/19=0.53,\tR(19)=10/13=0.77\n",
      "\t\tP(20)=10/20=0.50,\tR(20)=10/13=0.77\n",
      "\t\tP(21)=10/21=0.48,\tR(21)=10/13=0.77\n",
      "\t\tP(22)=10/22=0.45,\tR(22)=10/13=0.77\n",
      "\t\tP(23)=10/23=0.43,\tR(23)=10/13=0.77\n",
      "\t\tP(24)=10/24=0.42,\tR(24)=10/13=0.77\n",
      "\t\tP(25)=11/25=0.44,\tR(25)=11/13=0.85\n",
      "\t\tP(26)=12/26=0.46,\tR(26)=12/13=0.92\n",
      "\t\tP(27)=12/27=0.44,\tR(27)=12/13=0.92\n",
      "\t\tP(28)=12/28=0.43,\tR(28)=12/13=0.92\n",
      "\t\tP(29)=13/29=0.45,\tR(29)=13/13=1.00\n",
      "\t\tP(30)=13/30=0.43,\tR(30)=13/13=1.00\n",
      "\tConsulta 3\n",
      "\t\tP(1)=0/1=0.00,\tR(1)=0/13=0.00\n",
      "\t\tP(2)=0/2=0.00,\tR(2)=0/13=0.00\n",
      "\t\tP(3)=0/3=0.00,\tR(3)=0/13=0.00\n",
      "\t\tP(4)=0/4=0.00,\tR(4)=0/13=0.00\n",
      "\t\tP(5)=0/5=0.00,\tR(5)=0/13=0.00\n",
      "\t\tP(6)=1/6=0.17,\tR(6)=1/13=0.08\n",
      "\t\tP(7)=2/7=0.29,\tR(7)=2/13=0.15\n",
      "\t\tP(8)=2/8=0.25,\tR(8)=2/13=0.15\n",
      "\t\tP(9)=3/9=0.33,\tR(9)=3/13=0.23\n",
      "\t\tP(10)=3/10=0.30,\tR(10)=3/13=0.23\n",
      "\t\tP(11)=4/11=0.36,\tR(11)=4/13=0.31\n",
      "\t\tP(12)=4/12=0.33,\tR(12)=4/13=0.31\n",
      "\t\tP(13)=4/13=0.31,\tR(13)=4/13=0.31\n",
      "\t\tP(14)=5/14=0.36,\tR(14)=5/13=0.38\n",
      "\t\tP(15)=6/15=0.40,\tR(15)=6/13=0.46\n",
      "\t\tP(16)=7/16=0.44,\tR(16)=7/13=0.54\n",
      "\t\tP(17)=8/17=0.47,\tR(17)=8/13=0.62\n",
      "\t\tP(18)=8/18=0.44,\tR(18)=8/13=0.62\n",
      "\t\tP(19)=8/19=0.42,\tR(19)=8/13=0.62\n",
      "\t\tP(20)=8/20=0.40,\tR(20)=8/13=0.62\n",
      "\t\tP(21)=8/21=0.38,\tR(21)=8/13=0.62\n",
      "\t\tP(22)=8/22=0.36,\tR(22)=8/13=0.62\n",
      "\t\tP(23)=9/23=0.39,\tR(23)=9/13=0.69\n",
      "\t\tP(24)=9/24=0.38,\tR(24)=9/13=0.69\n",
      "\t\tP(25)=9/25=0.36,\tR(25)=9/13=0.69\n",
      "\t\tP(26)=10/26=0.38,\tR(26)=10/13=0.77\n",
      "\t\tP(27)=11/27=0.41,\tR(27)=11/13=0.85\n",
      "\t\tP(28)=11/28=0.39,\tR(28)=11/13=0.85\n",
      "\t\tP(29)=12/29=0.41,\tR(29)=12/13=0.92\n",
      "\t\tP(30)=13/30=0.43,\tR(30)=13/13=1.00\n",
      "\n",
      " Desenhando a curva de Precision-Recall para cada consulta\n",
      "\tConsulta 1\n"
     ]
    },
    {
     "data": {
      "image/png": "[encoded data removed]",
      "text/plain": [
       "<Figure size 432x288 with 1 Axes>"
      ]
     },
     "metadata": {
      "needs_background": "light"
     },
     "output_type": "display_data"
    },
    {
     "name": "stdout",
     "output_type": "stream",
     "text": [
      "\tConsulta 2\n"
     ]
    },
    {
     "data": {
      "image/png": "[encoded data removed]",
      "text/plain": [
       "<Figure size 432x288 with 1 Axes>"
      ]
     },
     "metadata": {
      "needs_background": "light"
     },
     "output_type": "display_data"
    },
    {
     "name": "stdout",
     "output_type": "stream",
     "text": [
      "\tConsulta 3\n"
     ]
    },
    {
     "data": {
      "image/png": "[encoded data removed]",
      "text/plain": [
       "<Figure size 432x288 with 1 Axes>"
      ]
     },
     "metadata": {
      "needs_background": "light"
     },
     "output_type": "display_data"
    },
    {
     "name": "stdout",
     "output_type": "stream",
     "text": [
      "\n",
      " Determinar a R-precision para cada consulta\n",
      "\tConsulta 1\n",
      "\t\tNúmero de documentos relevantes: 12 --> P(12)=0.42\n",
      "\tConsulta 2\n",
      "\t\tNúmero de documentos relevantes: 13 --> P(13)=0.54\n",
      "\tConsulta 3\n",
      "\t\tNúmero de documentos relevantes: 13 --> P(13)=0.31\n",
      "\n",
      " Calcular o MAP (Mean Average Precision)\n",
      "\tConsulta 1\n",
      "\t\tAP=1/12 {P(3) + P(5) + P(9) + P(10) + P(11) + P(16) + P(23) + P(24) + P(25) + P(26) + P(28) + P(30)}=0.37\n",
      "\tConsulta 2\n",
      "\t\tAP=1/13 {P(2) + P(3) + P(4) + P(6) + P(11) + P(12) + P(13) + P(16) + P(18) + P(19) + P(25) + P(26) + P(29)}=0.53\n",
      "\tConsulta 3\n",
      "\t\tAP=1/13 {P(6) + P(7) + P(9) + P(11) + P(14) + P(15) + P(16) + P(17) + P(23) + P(26) + P(27) + P(29) + P(30)}=0.37\n",
      "\tMAP=1/3 {AP_1 + AP_2 + AP_3}=1/3 {0.37 + 0.53 + 0.37}=0.43\n",
      "TP_rate e FP_rate em k para k=1,...,30\n",
      "\tConsulta 1\n",
      "\t\tTP_rate(1)=R(1)=0/12=0.00\t FP_rate(1)=1/18=0.06\t\n",
      "\t\tTP_rate(2)=R(2)=0/12=0.00\t FP_rate(2)=2/18=0.11\t\n",
      "\t\tTP_rate(3)=R(3)=1/12=0.08\t FP_rate(3)=2/18=0.11\t\n",
      "\t\tTP_rate(4)=R(4)=1/12=0.08\t FP_rate(4)=3/18=0.17\t\n",
      "\t\tTP_rate(5)=R(5)=2/12=0.17\t FP_rate(5)=3/18=0.17\t\n",
      "\t\tTP_rate(6)=R(6)=2/12=0.17\t FP_rate(6)=4/18=0.22\t\n",
      "\t\tTP_rate(7)=R(7)=2/12=0.17\t FP_rate(7)=5/18=0.28\t\n",
      "\t\tTP_rate(8)=R(8)=2/12=0.17\t FP_rate(8)=6/18=0.33\t\n",
      "\t\tTP_rate(9)=R(9)=3/12=0.25\t FP_rate(9)=6/18=0.33\t\n",
      "\t\tTP_rate(10)=R(10)=4/12=0.33\t FP_rate(10)=6/18=0.33\t\n",
      "\t\tTP_rate(11)=R(11)=5/12=0.42\t FP_rate(11)=6/18=0.33\t\n",
      "\t\tTP_rate(12)=R(12)=5/12=0.42\t FP_rate(12)=7/18=0.39\t\n",
      "\t\tTP_rate(13)=R(13)=5/12=0.42\t FP_rate(13)=8/18=0.44\t\n",
      "\t\tTP_rate(14)=R(14)=5/12=0.42\t FP_rate(14)=9/18=0.50\t\n",
      "\t\tTP_rate(15)=R(15)=5/12=0.42\t FP_rate(15)=10/18=0.56\t\n",
      "\t\tTP_rate(16)=R(16)=6/12=0.50\t FP_rate(16)=10/18=0.56\t\n",
      "\t\tTP_rate(17)=R(17)=6/12=0.50\t FP_rate(17)=11/18=0.61\t\n",
      "\t\tTP_rate(18)=R(18)=6/12=0.50\t FP_rate(18)=12/18=0.67\t\n",
      "\t\tTP_rate(19)=R(19)=6/12=0.50\t FP_rate(19)=13/18=0.72\t\n",
      "\t\tTP_rate(20)=R(20)=6/12=0.50\t FP_rate(20)=14/18=0.78\t\n",
      "\t\tTP_rate(21)=R(21)=6/12=0.50\t FP_rate(21)=15/18=0.83\t\n",
      "\t\tTP_rate(22)=R(22)=6/12=0.50\t FP_rate(22)=16/18=0.89\t\n",
      "\t\tTP_rate(23)=R(23)=7/12=0.58\t FP_rate(23)=16/18=0.89\t\n",
      "\t\tTP_rate(24)=R(24)=8/12=0.67\t FP_rate(24)=16/18=0.89\t\n",
      "\t\tTP_rate(25)=R(25)=9/12=0.75\t FP_rate(25)=16/18=0.89\t\n",
      "\t\tTP_rate(26)=R(26)=10/12=0.83\t FP_rate(26)=16/18=0.89\t\n",
      "\t\tTP_rate(27)=R(27)=10/12=0.83\t FP_rate(27)=17/18=0.94\t\n",
      "\t\tTP_rate(28)=R(28)=11/12=0.92\t FP_rate(28)=17/18=0.94\t\n",
      "\t\tTP_rate(29)=R(29)=11/12=0.92\t FP_rate(29)=18/18=1.00\t\n",
      "\t\tTP_rate(30)=R(30)=12/12=1.00\t FP_rate(30)=18/18=1.00\t\n",
      "\tConsulta 2\n",
      "\t\tTP_rate(1)=R(1)=0/13=0.00\t FP_rate(1)=1/17=0.06\t\n",
      "\t\tTP_rate(2)=R(2)=1/13=0.08\t FP_rate(2)=1/17=0.06\t\n",
      "\t\tTP_rate(3)=R(3)=2/13=0.15\t FP_rate(3)=1/17=0.06\t\n",
      "\t\tTP_rate(4)=R(4)=3/13=0.23\t FP_rate(4)=1/17=0.06\t\n",
      "\t\tTP_rate(5)=R(5)=3/13=0.23\t FP_rate(5)=2/17=0.12\t\n",
      "\t\tTP_rate(6)=R(6)=4/13=0.31\t FP_rate(6)=2/17=0.12\t\n",
      "\t\tTP_rate(7)=R(7)=4/13=0.31\t FP_rate(7)=3/17=0.18\t\n",
      "\t\tTP_rate(8)=R(8)=4/13=0.31\t FP_rate(8)=4/17=0.24\t\n",
      "\t\tTP_rate(9)=R(9)=4/13=0.31\t FP_rate(9)=5/17=0.29\t\n",
      "\t\tTP_rate(10)=R(10)=4/13=0.31\t FP_rate(10)=6/17=0.35\t\n",
      "\t\tTP_rate(11)=R(11)=5/13=0.38\t FP_rate(11)=6/17=0.35\t\n",
      "\t\tTP_rate(12)=R(12)=6/13=0.46\t FP_rate(12)=6/17=0.35\t\n",
      "\t\tTP_rate(13)=R(13)=7/13=0.54\t FP_rate(13)=6/17=0.35\t\n",
      "\t\tTP_rate(14)=R(14)=7/13=0.54\t FP_rate(14)=7/17=0.41\t\n",
      "\t\tTP_rate(15)=R(15)=7/13=0.54\t FP_rate(15)=8/17=0.47\t\n",
      "\t\tTP_rate(16)=R(16)=8/13=0.62\t FP_rate(16)=8/17=0.47\t\n",
      "\t\tTP_rate(17)=R(17)=8/13=0.62\t FP_rate(17)=9/17=0.53\t\n",
      "\t\tTP_rate(18)=R(18)=9/13=0.69\t FP_rate(18)=9/17=0.53\t\n",
      "\t\tTP_rate(19)=R(19)=10/13=0.77\t FP_rate(19)=9/17=0.53\t\n",
      "\t\tTP_rate(20)=R(20)=10/13=0.77\t FP_rate(20)=10/17=0.59\t\n",
      "\t\tTP_rate(21)=R(21)=10/13=0.77\t FP_rate(21)=11/17=0.65\t\n",
      "\t\tTP_rate(22)=R(22)=10/13=0.77\t FP_rate(22)=12/17=0.71\t\n",
      "\t\tTP_rate(23)=R(23)=10/13=0.77\t FP_rate(23)=13/17=0.76\t\n",
      "\t\tTP_rate(24)=R(24)=10/13=0.77\t FP_rate(24)=14/17=0.82\t\n",
      "\t\tTP_rate(25)=R(25)=11/13=0.85\t FP_rate(25)=14/17=0.82\t\n",
      "\t\tTP_rate(26)=R(26)=12/13=0.92\t FP_rate(26)=14/17=0.82\t\n",
      "\t\tTP_rate(27)=R(27)=12/13=0.92\t FP_rate(27)=15/17=0.88\t\n",
      "\t\tTP_rate(28)=R(28)=12/13=0.92\t FP_rate(28)=16/17=0.94\t\n",
      "\t\tTP_rate(29)=R(29)=13/13=1.00\t FP_rate(29)=16/17=0.94\t\n",
      "\t\tTP_rate(30)=R(30)=13/13=1.00\t FP_rate(30)=17/17=1.00\t\n",
      "\tConsulta 3\n",
      "\t\tTP_rate(1)=R(1)=0/13=0.00\t FP_rate(1)=1/17=0.06\t\n",
      "\t\tTP_rate(2)=R(2)=0/13=0.00\t FP_rate(2)=2/17=0.12\t\n",
      "\t\tTP_rate(3)=R(3)=0/13=0.00\t FP_rate(3)=3/17=0.18\t\n",
      "\t\tTP_rate(4)=R(4)=0/13=0.00\t FP_rate(4)=4/17=0.24\t\n",
      "\t\tTP_rate(5)=R(5)=0/13=0.00\t FP_rate(5)=5/17=0.29\t\n",
      "\t\tTP_rate(6)=R(6)=1/13=0.08\t FP_rate(6)=5/17=0.29\t\n",
      "\t\tTP_rate(7)=R(7)=2/13=0.15\t FP_rate(7)=5/17=0.29\t\n",
      "\t\tTP_rate(8)=R(8)=2/13=0.15\t FP_rate(8)=6/17=0.35\t\n",
      "\t\tTP_rate(9)=R(9)=3/13=0.23\t FP_rate(9)=6/17=0.35\t\n",
      "\t\tTP_rate(10)=R(10)=3/13=0.23\t FP_rate(10)=7/17=0.41\t\n",
      "\t\tTP_rate(11)=R(11)=4/13=0.31\t FP_rate(11)=7/17=0.41\t\n",
      "\t\tTP_rate(12)=R(12)=4/13=0.31\t FP_rate(12)=8/17=0.47\t\n",
      "\t\tTP_rate(13)=R(13)=4/13=0.31\t FP_rate(13)=9/17=0.53\t\n",
      "\t\tTP_rate(14)=R(14)=5/13=0.38\t FP_rate(14)=9/17=0.53\t\n",
      "\t\tTP_rate(15)=R(15)=6/13=0.46\t FP_rate(15)=9/17=0.53\t\n",
      "\t\tTP_rate(16)=R(16)=7/13=0.54\t FP_rate(16)=9/17=0.53\t\n",
      "\t\tTP_rate(17)=R(17)=8/13=0.62\t FP_rate(17)=9/17=0.53\t\n",
      "\t\tTP_rate(18)=R(18)=8/13=0.62\t FP_rate(18)=10/17=0.59\t\n",
      "\t\tTP_rate(19)=R(19)=8/13=0.62\t FP_rate(19)=11/17=0.65\t\n",
      "\t\tTP_rate(20)=R(20)=8/13=0.62\t FP_rate(20)=12/17=0.71\t\n",
      "\t\tTP_rate(21)=R(21)=8/13=0.62\t FP_rate(21)=13/17=0.76\t\n",
      "\t\tTP_rate(22)=R(22)=8/13=0.62\t FP_rate(22)=14/17=0.82\t\n",
      "\t\tTP_rate(23)=R(23)=9/13=0.69\t FP_rate(23)=14/17=0.82\t\n",
      "\t\tTP_rate(24)=R(24)=9/13=0.69\t FP_rate(24)=15/17=0.88\t\n",
      "\t\tTP_rate(25)=R(25)=9/13=0.69\t FP_rate(25)=16/17=0.94\t\n",
      "\t\tTP_rate(26)=R(26)=10/13=0.77\t FP_rate(26)=16/17=0.94\t\n",
      "\t\tTP_rate(27)=R(27)=11/13=0.85\t FP_rate(27)=16/17=0.94\t\n",
      "\t\tTP_rate(28)=R(28)=11/13=0.85\t FP_rate(28)=17/17=1.00\t\n",
      "\t\tTP_rate(29)=R(29)=12/13=0.92\t FP_rate(29)=17/17=1.00\t\n",
      "\t\tTP_rate(30)=R(30)=13/13=1.00\t FP_rate(30)=17/17=1.00\t\n",
      "\n",
      " Desenhar a curva ROC para cada consulta\n",
      "\tQuery 1\n"
     ]
    },
    {
     "data": {
      "image/png": "[encoded data removed]",
      "text/plain": [
       "<Figure size 432x288 with 1 Axes>"
      ]
     },
     "metadata": {
      "needs_background": "light"
     },
     "output_type": "display_data"
    },
    {
     "name": "stdout",
     "output_type": "stream",
     "text": [
      "\tAUC = 0.00 + 0.01 + 0.01 + 0.01 + 0.02 + 0.02 + 0.02 + 0.02 + 0.03 + 0.03 + 0.03 + 0.03 + 0.03 + 0.03 + 0.05 + 0.05 =  0.39\n",
      "\n",
      "\n",
      "\tQuery 2\n"
     ]
    },
    {
     "data": {
      "image/png": "[encoded data removed]",
      "text/plain": [
       "<Figure size 432x288 with 1 Axes>"
      ]
     },
     "metadata": {
      "needs_background": "light"
     },
     "output_type": "display_data"
    },
    {
     "name": "stdout",
     "output_type": "stream",
     "text": [
      "\tAUC = 0.01 + 0.02 + 0.02 + 0.02 + 0.02 + 0.03 + 0.03 + 0.04 + 0.05 + 0.05 + 0.05 + 0.05 + 0.05 + 0.05 + 0.05 + 0.06 =  0.58\n",
      "\n",
      "\n",
      "\tQuery 3\n"
     ]
    },
    {
     "data": {
      "image/png": "[encoded data removed]",
      "text/plain": [
       "<Figure size 432x288 with 1 Axes>"
      ]
     },
     "metadata": {
      "needs_background": "light"
     },
     "output_type": "display_data"
    },
    {
     "name": "stdout",
     "output_type": "stream",
     "text": [
      "\tAUC = 0.01 + 0.01 + 0.02 + 0.02 + 0.04 + 0.04 + 0.04 + 0.04 + 0.04 + 0.04 + 0.04 + 0.05 =  0.37\n",
      "\n",
      "\n"
     ]
    }
   ],
   "source": [
    "exercise='all'\n",
    "solve(exercise,Q,R)"
   ]
  },
  {
   "cell_type": "markdown",
   "metadata": {},
   "source": [
    "## Observações\n",
    "\n",
    "Alguns comentários importantes:\n",
    "\n",
    "* Repare nas **curvas de Precision-Recall** como ela pode ficar subindo e descendo, assim como você viu na aula. Por isso a linha de interpolação é importante para deixar o gráfico mais fácil de visualizar.\n",
    "* O **R-Precision** é uma medida muito importante pois, na prática, um sistema de IR precisa ter ótima precisão nos primeiros resultados, uma vez que o usuário prefere refazer a consulta a ficar descendo muito na lista de retorno\n",
    "* A **curva ROC** é uma medida de qualidade muito usada em sistemas de classificação para determinar o ponto de corte ideal (threshold) de um classificador. Em sistemas de IR, pode-se utilizá-la para verificar qual o tamanho ideal da lista que será retornado para o usuário. Veja o dilema: quanto menos documentos você retornar ao usuário, maior tua precisão e menor teu recall. Quanto mais documentos retornar para a consulta, menor a precisão e maior o recall. Quantos retornar então? A curva ROC pode te auxiliar a decidir.\n",
    "* Comparar a **área sob a curva ROC (AUC)** de dois sistemas é uma medida interessante pra facilmente decidir entre eles sem ter que interpretar o gráfico. Um AUC=1 é o sistema perfeito. Um AUC próximo de 0.5 significa que o teu sistema funciona praticamente \"por sorte\". Ex: se você tem um sistema que classifica se a pessoa tem uma doença considerando, por exemplo, seu exame de sangue e o classificador tem um AUC igual a 0.5, é o mesmo que dizer que o classificador funciona tão bem quanto tirar no cara-e-coroa. Por fim, se o AUC for abaixo de 0.5, quer dizer que é mais fácil vc acertar tirando na moedinha do que com o teu sistema.\n",
    "\n",
    "*Pergunta:* a curva ROC não é atualmente utilizada para analisar sistemas de RI, já que eles lidam com grande volume de dados que acaba influenciando no formato dessa curva. Você consegue pensar no motivo?"
   ]
  },
  {
   "cell_type": "code",
   "execution_count": null,
   "metadata": {},
   "outputs": [],
   "source": []
  }
 ],
 "metadata": {
  "kernelspec": {
   "display_name": "Python 3",
   "language": "python",
   "name": "python3"
  },
  "language_info": {
   "codemirror_mode": {
    "name": "ipython",
    "version": 3
   },
   "file_extension": ".py",
   "mimetype": "text/x-python",
   "name": "python",
   "nbconvert_exporter": "python",
   "pygments_lexer": "ipython3",
   "version": "3.7.6"
  }
 },
 "nbformat": 4,
 "nbformat_minor": 4
}
